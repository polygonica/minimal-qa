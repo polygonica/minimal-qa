{
 "cells": [
  {
   "cell_type": "code",
   "execution_count": 1,
   "metadata": {
    "collapsed": false
   },
   "outputs": [
    {
     "name": "stderr",
     "output_type": "stream",
     "text": [
      "/Users/rafael/anaconda/lib/python2.7/site-packages/matplotlib/font_manager.py:273: UserWarning: Matplotlib is building the font cache using fc-list. This may take a moment.\n",
      "  warnings.warn('Matplotlib is building the font cache using fc-list. This may take a moment.')\n"
     ]
    }
   ],
   "source": [
    "import os\n",
    "import nltk"
   ]
  },
  {
   "cell_type": "code",
   "execution_count": 3,
   "metadata": {
    "collapsed": true
   },
   "outputs": [],
   "source": [
    "# concat court cases to train word2vec\n",
    "casepath = 'CourtCases'"
   ]
  },
  {
   "cell_type": "code",
   "execution_count": 10,
   "metadata": {
    "collapsed": false
   },
   "outputs": [
    {
     "name": "stdout",
     "output_type": "stream",
     "text": [
      "[nltk_data] Downloading package stopwords to\n",
      "[nltk_data]     /Users/rafael/nltk_data...\n",
      "[nltk_data]   Package stopwords is already up-to-date!\n"
     ]
    }
   ],
   "source": [
    "porter = nltk.PorterStemmer()\n",
    "\n",
    "nltk.download('stopwords')\n",
    "from nltk.corpus import stopwords\n",
    "from nltk.tokenize import wordpunct_tokenize\n",
    "\n",
    "stopw = set(stopwords.words('english'))\n",
    "stopw.update(['.', ',', '\"', \"'\", '?', '!', ':', ';', '(', ')', '[', ']', '{', '}'])\n",
    "\n",
    "def remove_stopw(s):\n",
    "    s = [i for i in s if i not in stopw]\n",
    "    return s\n",
    "\n",
    "def clean_token(w):\n",
    "    w = porter.stem(''.join([a.lower() for a in w if a.isalnum()]))\n",
    "    return w\n",
    "    \n",
    "def clean_phrase(s):\n",
    "    s = [clean_token(w) for w in s]\n",
    "    return s"
   ]
  },
  {
   "cell_type": "code",
   "execution_count": 12,
   "metadata": {
    "collapsed": false
   },
   "outputs": [
    {
     "name": "stdout",
     "output_type": "stream",
     "text": [
      "Read 0 files\n",
      "Read 500 files\n",
      "Read 1000 files\n",
      "Read 1500 files\n",
      "Read 2000 files\n",
      "Read 2500 files\n",
      "Read 3000 files\n",
      "Read 3500 files\n",
      "Read 4000 files\n",
      "Read 4500 files\n",
      "Read 5000 files\n",
      "Read 5500 files\n",
      "Read 6000 files\n",
      "Read 6500 files\n",
      "Read 7000 files\n",
      "Read 7500 files\n",
      "Read 8000 files\n",
      "Read 8500 files\n",
      "Read 9000 files\n",
      "Read 9500 files\n",
      "Read 10000 files\n",
      "Read 10500 files\n",
      "Read 11000 files\n",
      "Read 11500 files\n",
      "Read 12000 files\n",
      "Read 12500 files\n",
      "Read 13000 files\n",
      "Read 13500 files\n",
      "Read 14000 files\n",
      "Read 14500 files\n",
      "Read 15000 files\n",
      "Read 15500 files\n",
      "Read 16000 files\n",
      "Read 16500 files\n",
      "Read 17000 files\n",
      "Read 17500 files\n",
      "Read 18000 files\n",
      "Read 18500 files\n",
      "Read 19000 files\n",
      "Read 19500 files\n",
      "Read 20000 files\n",
      "Read 20500 files\n",
      "Read 21000 files\n",
      "Read 21500 files\n",
      "Read 22000 files\n",
      "Read 22500 files\n",
      "Read 23000 files\n",
      "Read 23500 files\n",
      "Read 24000 files\n",
      "Read 24500 files\n",
      "Read 25000 files\n",
      "Read 25500 files\n",
      "Read 26000 files\n",
      "Read 26500 files\n",
      "Read 27000 files\n",
      "Read 27500 files\n",
      "Read 28000 files\n",
      "Read 28500 files\n",
      "Read 29000 files\n",
      "Read 29500 files\n",
      "Read 30000 files\n",
      "Read 30500 files\n",
      "Read 31000 files\n",
      "Read 31500 files\n",
      "Read 32000 files\n",
      "Read 32500 files\n",
      "Read 33000 files\n",
      "Read 33500 files\n",
      "Read 34000 files\n",
      "Read 34500 files\n",
      "Read 35000 files\n",
      "Read 35500 files\n",
      "Read 36000 files\n",
      "Read 36500 files\n",
      "Read 37000 files\n",
      "Read 37500 files\n",
      "Read 38000 files\n",
      "Read 38500 files\n",
      "Read 39000 files\n",
      "Read 39500 files\n",
      "Read 40000 files\n",
      "Read 40500 files\n",
      "Read 41000 files\n",
      "Read 41500 files\n",
      "Read 42000 files\n",
      "Read 42500 files\n",
      "Read 43000 files\n",
      "Read 43500 files\n",
      "Read 44000 files\n",
      "Read 44500 files\n",
      "Read 45000 files\n",
      "Read 45500 files\n",
      "Read 46000 files\n",
      "Read 46500 files\n",
      "Read 47000 files\n",
      "Read 47500 files\n",
      "Read 48000 files\n",
      "Read 48500 files\n",
      "Read 49000 files\n",
      "Read 49500 files\n",
      "Read 50000 files\n",
      "Read 50500 files\n",
      "Read 51000 files\n",
      "Read 51500 files\n",
      "Read 52000 files\n",
      "Read 52500 files\n",
      "Read 53000 files\n",
      "Read 53500 files\n",
      "Read 54000 files\n",
      "Read 54500 files\n",
      "Read 55000 files\n",
      "Read 55500 files\n",
      "Read 56000 files\n",
      "Read 56500 files\n",
      "Read 57000 files\n",
      "Read 57500 files\n",
      "Read 58000 files\n",
      "Read 58500 files\n",
      "Read 59000 files\n",
      "Read 59500 files\n",
      "Read 60000 files\n",
      "Read 60500 files\n",
      "Read 61000 files\n",
      "Read 61500 files\n",
      "Read 62000 files\n",
      "Read 62500 files\n",
      "Read 63000 files\n",
      "Read 63500 files\n",
      "Read 64000 files\n",
      "Read 64500 files\n",
      "Read 65000 files\n",
      "Read 65500 files\n",
      "Read 66000 files\n",
      "Read 66500 files\n",
      "Read 67000 files\n",
      "Read 67500 files\n",
      "Read 68000 files\n",
      "Read 68500 files\n",
      "Read 69000 files\n",
      "Read 69500 files\n",
      "Read 70000 files\n",
      "Read 70500 files\n",
      "Read 71000 files\n",
      "Read 71500 files\n",
      "Read 72000 files\n",
      "Read 72500 files\n",
      "Read 73000 files\n",
      "Read 73500 files\n",
      "Read 74000 files\n",
      "Read 74500 files\n",
      "Read 75000 files\n",
      "Read 75500 files\n",
      "Read 76000 files\n",
      "Read 76500 files\n",
      "Read 77000 files\n",
      "Read 77500 files\n",
      "Read 78000 files\n",
      "Read 78500 files\n",
      "Read 79000 files\n",
      "Read 79500 files\n",
      "Read 80000 files\n",
      "Read 80500 files\n",
      "Read 81000 files\n",
      "Read 81500 files\n",
      "Read 82000 files\n",
      "Read 82500 files\n",
      "Read 83000 files\n",
      "Read 83500 files\n",
      "Read 84000 files\n",
      "Read 84500 files\n",
      "Read 85000 files\n",
      "Read 85500 files\n",
      "Read 86000 files\n",
      "Read 86500 files\n",
      "Read 87000 files\n",
      "Read 87500 files\n",
      "Read 88000 files\n"
     ]
    }
   ],
   "source": [
    "# Clean data\n",
    "documents = [0]*88180\n",
    "fns = [fn for fn in os.listdir(casepath) if fn[0] != '.']\n",
    "for i, fn in enumerate(fns):\n",
    "    with open(os.path.join(casepath, fn)) as infile:\n",
    "        # print infile.read()\n",
    "        tokens = wordpunct_tokenize(infile.read())\n",
    "        tokens = remove_stopw(tokens)\n",
    "        tokens = clean_phrase(tokens)\n",
    "        documents[i] = tokens\n",
    "    if i % 500 == 0:\n",
    "        print \"Read %d files\" % i"
   ]
  },
  {
   "cell_type": "code",
   "execution_count": 20,
   "metadata": {
    "collapsed": true
   },
   "outputs": [],
   "source": [
    "sentences = (gensim.models.doc2vec.LabeledSentence(words=d, tags=[str(i)]) for i, d in enumerate(documents))"
   ]
  },
  {
   "cell_type": "code",
   "execution_count": null,
   "metadata": {
    "collapsed": false
   },
   "outputs": [],
   "source": [
    "# Build model\n",
    "model = gensim.models.Doc2Vec(sentences)\n",
    "model.save('model.doc2vec')"
   ]
  },
  {
   "cell_type": "code",
   "execution_count": null,
   "metadata": {
    "collapsed": true
   },
   "outputs": [],
   "source": []
  }
 ],
 "metadata": {
  "anaconda-cloud": {},
  "kernelspec": {
   "display_name": "Python [default]",
   "language": "python",
   "name": "python2"
  },
  "language_info": {
   "codemirror_mode": {
    "name": "ipython",
    "version": 2
   },
   "file_extension": ".py",
   "mimetype": "text/x-python",
   "name": "python",
   "nbconvert_exporter": "python",
   "pygments_lexer": "ipython2",
   "version": "2.7.12"
  }
 },
 "nbformat": 4,
 "nbformat_minor": 1
}
