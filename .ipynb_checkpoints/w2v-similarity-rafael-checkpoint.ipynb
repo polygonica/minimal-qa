{
 "cells": [
  {
   "cell_type": "code",
   "execution_count": 199,
   "metadata": {
    "collapsed": true
   },
   "outputs": [],
   "source": [
    "import word2vec as w2v\n",
    "import gensim\n",
    "import os\n",
    "import csv\n",
    "import nltk\n",
    "import numpy as np\n",
    "\n",
    "from scipy.spatial.distance import cosine as cosine_distance"
   ]
  },
  {
   "cell_type": "code",
   "execution_count": 101,
   "metadata": {
    "collapsed": false
   },
   "outputs": [
    {
     "name": "stdout",
     "output_type": "stream",
     "text": [
      "[nltk_data] Downloading package stopwords to\n",
      "[nltk_data]     /Users/rafael/nltk_data...\n",
      "[nltk_data]   Package stopwords is already up-to-date!\n"
     ]
    },
    {
     "data": {
      "text/plain": [
       "u'test how thi thing split whitespac'"
      ]
     },
     "execution_count": 101,
     "metadata": {},
     "output_type": "execute_result"
    }
   ],
   "source": [
    "porter = nltk.PorterStemmer()\n",
    "\n",
    "nltk.download('stopwords')\n",
    "from nltk.corpus import stopwords\n",
    "from nltk.tokenize import wordpunct_tokenize\n",
    "\n",
    "stopw = set(stopwords.words('english'))\n",
    "stopw.update(['.', ',', '\"', \"'\", '?', '!', ':', ';', '(', ')', '[', ']', '{', '}'])\n",
    "\n",
    "def remove_stopw(s):\n",
    "    s = clean_phrase(s)\n",
    "    s = ' '.join([i for i in wordpunct_tokenize(s) if i not in stopw])\n",
    "    return s\n",
    "\n",
    "def clean_token(w):\n",
    "    w = porter.stem(''.join([a.lower() for a in w if a.isalnum()]))\n",
    "    return w\n",
    "    \n",
    "def clean_phrase(s):\n",
    "    s = s.split()\n",
    "    s = ' '.join([clean_token(w) for w in s])\n",
    "    return s\n",
    "\n",
    "clean_phrase(\"Testing how\\nthis thing splits\\twhitespace\")"
   ]
  },
  {
   "cell_type": "code",
   "execution_count": 2,
   "metadata": {
    "collapsed": true
   },
   "outputs": [],
   "source": [
    "# concat court cases to train word2vec\n",
    "casepath = 'CourtCases'"
   ]
  },
  {
   "cell_type": "code",
   "execution_count": 73,
   "metadata": {
    "collapsed": false
   },
   "outputs": [
    {
     "name": "stdout",
     "output_type": "stream",
     "text": [
      "Read 0 files\n",
      "Read 1000 files\n",
      "Read 2000 files\n",
      "Read 3000 files\n",
      "Read 4000 files\n",
      "Read 5000 files\n",
      "Read 6000 files\n",
      "Read 7000 files\n",
      "Read 8000 files\n",
      "Read 9000 files\n",
      "Read 10000 files\n",
      "Read 11000 files\n",
      "Read 12000 files\n",
      "Read 13000 files\n",
      "Read 14000 files\n",
      "Read 15000 files\n",
      "Read 16000 files\n",
      "Read 17000 files\n",
      "Read 18000 files\n",
      "Read 19000 files\n",
      "Read 20000 files\n",
      "Read 21000 files\n",
      "Read 22000 files\n",
      "Read 23000 files\n",
      "Read 24000 files\n",
      "Read 25000 files\n",
      "Read 26000 files\n",
      "Read 27000 files\n",
      "Read 28000 files\n",
      "Read 29000 files\n",
      "Read 30000 files\n",
      "Read 31000 files\n",
      "Read 32000 files\n",
      "Read 33000 files\n",
      "Read 34000 files\n",
      "Read 35000 files\n",
      "Read 36000 files\n",
      "Read 37000 files\n",
      "Read 38000 files\n",
      "Read 39000 files\n",
      "Read 40000 files\n",
      "Read 41000 files\n",
      "Read 42000 files\n",
      "Read 43000 files\n",
      "Read 44000 files\n",
      "Read 45000 files\n",
      "Read 46000 files\n",
      "Read 47000 files\n",
      "Read 48000 files\n",
      "Read 49000 files\n",
      "Read 50000 files\n",
      "Read 51000 files\n",
      "Read 52000 files\n",
      "Read 53000 files\n",
      "Read 54000 files\n",
      "Read 55000 files\n",
      "Read 56000 files\n",
      "Read 57000 files\n",
      "Read 58000 files\n",
      "Read 59000 files\n",
      "Read 60000 files\n",
      "Read 61000 files\n",
      "Read 62000 files\n",
      "Read 63000 files\n",
      "Read 64000 files\n",
      "Read 65000 files\n",
      "Read 66000 files\n",
      "Read 67000 files\n",
      "Read 68000 files\n",
      "Read 69000 files\n",
      "Read 70000 files\n",
      "Read 71000 files\n",
      "Read 72000 files\n",
      "Read 73000 files\n",
      "Read 74000 files\n",
      "Read 75000 files\n",
      "Read 76000 files\n",
      "Read 77000 files\n",
      "Read 78000 files\n",
      "Read 79000 files\n",
      "Read 80000 files\n",
      "Read 81000 files\n",
      "Read 82000 files\n",
      "Read 83000 files\n",
      "Read 84000 files\n",
      "Read 85000 files\n",
      "Read 86000 files\n",
      "Read 87000 files\n",
      "Read 88000 files\n"
     ]
    }
   ],
   "source": [
    "# Build clean file for Word2Vec training\n",
    "fns = [fn for fn in os.listdir(casepath) if fn[0] != '.']\n",
    "with open('clean_cases.txt', 'w') as catfile:\n",
    "    for i, fn in enumerate(fns):\n",
    "        with open(os.path.join(casepath, fn)) as infile:\n",
    "            s = clean_phrase(infile.read())+'\\n'\n",
    "            catfile.write(s)\n",
    "        if i % 1000 == 0:\n",
    "            print \"Read %d files\" % i"
   ]
  },
  {
   "cell_type": "code",
   "execution_count": 3,
   "metadata": {
    "collapsed": false
   },
   "outputs": [],
   "source": [
    "#model = w2v.word2vec('clean_cases.txt', 'cases_w2v.bin', size=150, window=15)\n",
    "model = gensim.models.Word2Vec.load_word2vec_format('cases_w2v.bin', binary=True)\n",
    "# model = gensim.models.Word2Vec.load_word2vec_format('cases.bin', binary=True, unicode_errors='ignore')\n",
    "# Forgot to clean text. This should improve performance.\n",
    "# Edit: Cleaned for alphanum and lemmatized."
   ]
  },
  {
   "cell_type": "code",
   "execution_count": 15,
   "metadata": {
    "collapsed": false
   },
   "outputs": [
    {
     "data": {
      "text/plain": [
       "[(u'nineteenthcenturi', 0.4749404788017273),\n",
       " (u'longheld', 0.4300786852836609),\n",
       " (u'congress', 0.4180983304977417),\n",
       " (u'9congress', 0.40613919496536255),\n",
       " (u'edmich1997', 0.39734798669815063),\n",
       " (u'where', 0.38584786653518677),\n",
       " (u'illctcl', 0.3815145492553711),\n",
       " (u'1946', 0.3814910650253296),\n",
       " (u'it', 0.38054129481315613),\n",
       " (u'underlay', 0.37926971912384033)]"
      ]
     },
     "execution_count": 15,
     "metadata": {},
     "output_type": "execute_result"
    }
   ],
   "source": [
    "model.most_similar(positive=clean_token('lease'), negative=clean_token('debtor'))"
   ]
  },
  {
   "cell_type": "code",
   "execution_count": 16,
   "metadata": {
    "collapsed": false
   },
   "outputs": [],
   "source": [
    "with open('inputData.csv', 'r') as infile:\n",
    "    reader = csv.reader(infile)\n",
    "    data = [row for row in reader]\n",
    "\n",
    "with open('outputData.csv', 'r') as testfile:\n",
    "    reader = csv.reader(testfile)\n",
    "    test = [row for row in reader]\n",
    "\n",
    "questions = [d[0] for d in data]\n",
    "answers = [d[1:] for d in data]\n",
    "\n",
    "validation = [t[1] for t in test]"
   ]
  },
  {
   "cell_type": "code",
   "execution_count": 228,
   "metadata": {
    "collapsed": false
   },
   "outputs": [],
   "source": [
    "# Similarity between sentences\n",
    "\n",
    "def similarity_topn(q, a, n=300):\n",
    "    scores = []\n",
    "    # Get inner product\n",
    "    # score = sum([w*q for (w,q) in zip(wq,wa)])\n",
    "    # q = clean_phrase(q)\n",
    "    # a = clean_phrase(a)\n",
    "    for wq in q.split():\n",
    "        for wa in a.split():\n",
    "            try: # Shouldn't happen anymore\n",
    "                scores.append(model.similarity(wq, wa))\n",
    "            except: # Shouldn't happen anymore\n",
    "                pass\n",
    "    num = min(n, len(scores))\n",
    "    scores = sorted(scores)[-num:]\n",
    "    scores = [s for s in scores if s < .999]\n",
    "    score = sum(scores)\n",
    "    return scores\n",
    "\n",
    "def similarity_topn_words(q, a, mins, maxs):\n",
    "    # Get inner product\n",
    "    # score = sum([w*q for (w,q) in zip(wq,wa)])\n",
    "    # q = clean_phrase(q)\n",
    "    # a = clean_phrase(a)\n",
    "    words = []\n",
    "    for wq in q.split():\n",
    "        for wa in a.split():\n",
    "            try: # Shouldn't happen anymore\n",
    "                score = model.similarity(wq, wa)\n",
    "                if score >= mins and score <= maxs:\n",
    "                    words.append((wq,wa))\n",
    "            except: # Shouldn't happen anymore\n",
    "                pass\n",
    "    return words\n",
    "\n",
    "def similarity(q, a):\n",
    "    score = 0.0\n",
    "    no_count = 0\n",
    "    # Get inner product\n",
    "    # score = sum([w*q for (w,q) in zip(wq,wa)])\n",
    "\n",
    "    for wq in q.split():\n",
    "        for wa in a.split():\n",
    "            try: # Shouldn't happen anymore\n",
    "                score += model.similarity(wq, wa)\n",
    "            except: # Shouldn't happen anymore\n",
    "                no_count += 1\n",
    "    score /= ((len(q)*len(a)) - no_count)\n",
    "    return score\n",
    "\n",
    "def similarity_log(q, a):\n",
    "    # >50% benchmark\n",
    "    no_count = 0\n",
    "    words = {}\n",
    "    for wq in q.split():\n",
    "        for wa in a.split():\n",
    "            try:\n",
    "                key = wq+wa\n",
    "                words[key] = words.setdefault(key, 0) + model.similarity(wq, wa)\n",
    "            except:\n",
    "                no_count += 1\n",
    "    scores = words.values()\n",
    "    scores_pos = [np.log(k+1) for k in words.values() if k > 0]\n",
    "    scores_neg = [np.log(-k+1) for k in words.values() if k < 0]\n",
    "    score = (sum(scores_pos)-sum(scores_neg))/((len(q)*len(a)) - no_count)\n",
    "    # return sorted([-s for s in scores_neg]+scores_pos)\n",
    "    return score\n",
    "\n",
    "def sum_embeddings(q, a):\n",
    "    # Cosine distance of sum of embeddings\n",
    "    # 16% benchmark\n",
    "    q = q.split()\n",
    "    a = a.split()\n",
    "    sq = np.array([0.0]*150)\n",
    "    sa = np.array([0.0]*150)\n",
    "    for qw in q:\n",
    "        try:\n",
    "            sq += model[qw]\n",
    "        except:\n",
    "            pass\n",
    "    for aw in a:\n",
    "        try:\n",
    "            sa += model[aw]\n",
    "        except:\n",
    "            pass\n",
    "    sq /= len(qw)\n",
    "    sa /= len(aw)\n",
    "    return cosine_distance(sq,sa)  \n",
    "\n",
    "def rank_answers(q, alist, n=300):\n",
    "    q = remove_stopw(q)\n",
    "    simlist = []\n",
    "    for a in alist:\n",
    "        a = remove_stopw(a)\n",
    "        simlist.append(similarity_log(q, a))\n",
    "    #return [a for (a, s) in sorted(zip(alist, simlist))]\n",
    "    return alist[simlist.index(max(simlist))]\n",
    "\n",
    "def rank_answers_cos(q, alist):\n",
    "    # Minimize cosine distance between embeddings\n",
    "    q = remove_stopw(q)\n",
    "    simlist = []\n",
    "    for a in alist:\n",
    "        a = remove_stopw(a)\n",
    "        simlist.append(sum_embeddings(q, a))\n",
    "    return alist[simlist.index(max(simlist))]"
   ]
  },
  {
   "cell_type": "code",
   "execution_count": 230,
   "metadata": {
    "collapsed": false
   },
   "outputs": [
    {
     "data": {
      "text/plain": [
       "0.47"
      ]
     },
     "execution_count": 230,
     "metadata": {},
     "output_type": "execute_result"
    }
   ],
   "source": [
    "top_answer = [rank_answers(q,a) for q,a in zip(questions,answers)]\n",
    "correct = [int(i == j) for (i,j) in zip(top_answer, validation)]\n",
    "(sum(correct)*1.0)/len(validation)"
   ]
  },
  {
   "cell_type": "code",
   "execution_count": 66,
   "metadata": {
    "collapsed": false
   },
   "outputs": [],
   "source": [
    "from matplotlib import pyplot as plt\n",
    "%matplotlib inline"
   ]
  },
  {
   "cell_type": "code",
   "execution_count": 188,
   "metadata": {
    "collapsed": false
   },
   "outputs": [
    {
     "data": {
      "text/plain": [
       "[60.897689261941039,\n",
       " 109.40577556350532,\n",
       " 38.389167050326435,\n",
       " 86.125797473845367,\n",
       " 237.30708703225395]"
      ]
     },
     "execution_count": 188,
     "metadata": {},
     "output_type": "execute_result"
    },
    {
     "data": {
      "image/png": "[encoded data removed]",
      "text/plain": [
       "<matplotlib.figure.Figure at 0x12d11bd10>"
      ]
     },
     "metadata": {},
     "output_type": "display_data"
    }
   ],
   "source": [
    "row = 50\n",
    "qa = (questions[row], answers[row])\n",
    "q = remove_stopw(qa[0])\n",
    "a = remove_stopw(qa[1][4])\n",
    "\n",
    "sim = similarity_log(q, a)\n",
    "plt.plot(sim)\n",
    "\n",
    "[sum(similarity_log(q, aa))/len(qa) for aa in qa[1]]\n",
    "#[sum(similarity_log(q, aa)) for aa in qa[1]]"
   ]
  },
  {
   "cell_type": "code",
   "execution_count": 127,
   "metadata": {
    "collapsed": false
   },
   "outputs": [
    {
     "data": {
      "text/plain": [
       "[(u'transfere', u'transfer'),\n",
       " (u'transfere', u'transfer'),\n",
       " (u'transfere', u'transfer'),\n",
       " (u'transfere', u'transfer'),\n",
       " (u'transfere', u'transfer'),\n",
       " (u'transfere', u'transfer'),\n",
       " (u'transfere', u'transfer'),\n",
       " (u'transfere', u'transfer'),\n",
       " (u'transfere', u'transfer'),\n",
       " (u'transfere', u'transfer'),\n",
       " (u'transfere', u'transfer'),\n",
       " (u'transfer', u'transfere'),\n",
       " (u'transfer', u'transfere'),\n",
       " (u'transfer', u'transfere'),\n",
       " (u'transfer', u'transfere'),\n",
       " (u'transfer', u'transfere'),\n",
       " (u'transfer', u'transfere'),\n",
       " (u'transfer', u'transfere'),\n",
       " (u'transfer', u'transfere'),\n",
       " (u'transfer', u'transfere'),\n",
       " (u'transfer', u'transfere'),\n",
       " (u'transfer', u'transfere'),\n",
       " (u'transfer', u'transfere'),\n",
       " (u'truste', u'debtor'),\n",
       " (u'truste', u'debtor'),\n",
       " (u'truste', u'debtor'),\n",
       " (u'truste', u'debtor'),\n",
       " (u'truste', u'debtor'),\n",
       " (u'proceed', u'action'),\n",
       " (u'proceed', u'case'),\n",
       " (u'proceed', u'case'),\n",
       " (u'proceed', u'case'),\n",
       " (u'proceed', u'case'),\n",
       " (u'proceed', u'case'),\n",
       " (u'proceed', u'case'),\n",
       " (u'transfer', u'transfere'),\n",
       " (u'transfer', u'transfere'),\n",
       " (u'transfer', u'transfere'),\n",
       " (u'transfer', u'transfere'),\n",
       " (u'transfer', u'transfere'),\n",
       " (u'transfer', u'transfere'),\n",
       " (u'transfer', u'transfere'),\n",
       " (u'transfer', u'transfere'),\n",
       " (u'transfer', u'transfere'),\n",
       " (u'transfer', u'transfere'),\n",
       " (u'transfer', u'transfere'),\n",
       " (u'transfer', u'transfere')]"
      ]
     },
     "execution_count": 127,
     "metadata": {},
     "output_type": "execute_result"
    }
   ],
   "source": [
    "similarity_topn_words(q, a, .65, .70)"
   ]
  },
  {
   "cell_type": "code",
   "execution_count": 88,
   "metadata": {
    "collapsed": false
   },
   "outputs": [
    {
     "data": {
      "text/plain": [
       "'Can subsequent transferees, who were not named in a judgment avoiding an initial transfer, require the trustee in a subsequent recovery proceeding to re-establish the avoidability of the transfer?'"
      ]
     },
     "execution_count": 88,
     "metadata": {},
     "output_type": "execute_result"
    }
   ],
   "source": [
    "questions[50]"
   ]
  },
  {
   "cell_type": "code",
   "execution_count": 91,
   "metadata": {
    "collapsed": false
   },
   "outputs": [
    {
     "data": {
      "text/plain": [
       "'It is these subsequent transferees of Fairfield and Kingate who have raised the issues related to the interpretation of section 550(a) now before this Court. Specifically, the defendants have moved to dismiss the Trustee\\'s complaints in their respective adversary proceedings, arguing that the Trustee has failed to avoid the relevant transfers from Madoff Securities, thereby precluding recovery from them under section 550(a). See 11 U.S.C. \\xc2\\xa7 550(a) (permitting recovery of transfers \" to the extent that a transfer is avoided\" under one of the Bankruptcy Code\\'s avoidance provisions). The defendants here also moved to withdraw the reference to the Bankruptcy Court, which the Court granted with respect to the following issues: \" (1) whether, as a precondition for pursuing a recovery action against a subsequent transferee under 11 U.S.C. \\xc2\\xa7 550(a), the Trustee must first obtain a fully litigated, final judgment of avoidance against the relevant initial transferee under 11 U.S.C. \\xc2\\xa7\\xc2\\xa7 544, 547 or 548 or (2) whether the Trustee\\'s recovery action against a subsequent transferee under 11 U.S.C. \\xc2\\xa7 550(a) must be dismissed unless the Trustee has obtained a judgment against the relevant subsequent transferee avoiding the initial transfer or he asserts a claim against the subsequent transferee to avoid the initial transfer within the period prescribed by 11 U.S.C. \\xc2\\xa7 546(a).\" Order at 2, No. 12 Misc. 115, ECF No. 314 (S.D.N.Y. Aug. 22, 2012). The Court received consolidated briefing on each of these issues from the defendants, the Trustee, and the Securities Investor Protection Corporation (\" SIPC\" ), and heard oral argument on December 3, 2012. On December 5, 2012, the Court denied the defendants\\' motions in a \" bottom-line\" Order. See Order, No. 12 Misc. 115, ECF No. 422 (S.D.N.Y. Dec. 5, 2012). This Opinion and Order explains the reasons for that decision and directs further proceedings to be returned to the Bankruptcy Court.'"
      ]
     },
     "execution_count": 91,
     "metadata": {},
     "output_type": "execute_result"
    }
   ],
   "source": [
    "qa[1][1]"
   ]
  },
  {
   "cell_type": "code",
   "execution_count": null,
   "metadata": {
    "collapsed": true
   },
   "outputs": [],
   "source": []
  }
 ],
 "metadata": {
  "anaconda-cloud": {},
  "kernelspec": {
   "display_name": "Python [default]",
   "language": "python",
   "name": "python2"
  },
  "language_info": {
   "codemirror_mode": {
    "name": "ipython",
    "version": 2
   },
   "file_extension": ".py",
   "mimetype": "text/x-python",
   "name": "python",
   "nbconvert_exporter": "python",
   "pygments_lexer": "ipython2",
   "version": "2.7.12"
  }
 },
 "nbformat": 4,
 "nbformat_minor": 1
}
