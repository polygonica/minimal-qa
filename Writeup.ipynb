{
 "cells": [
  {
   "cell_type": "code",
   "execution_count": 207,
   "metadata": {
    "collapsed": false
   },
   "outputs": [],
   "source": [
    "import gensim\n",
    "import os\n",
    "import csv\n",
    "import nltk\n",
    "import numpy as np\n",
    "\n",
    "from scipy.spatial.distance import cosine as cosine_distance\n",
    "\n",
    "from matplotlib import pyplot as plt\n",
    "%matplotlib inline"
   ]
  },
  {
   "cell_type": "code",
   "execution_count": 48,
   "metadata": {
    "collapsed": false
   },
   "outputs": [
    {
     "name": "stdout",
     "output_type": "stream",
     "text": [
      "[nltk_data] Downloading package stopwords to\n",
      "[nltk_data]     /Users/rafael/nltk_data...\n",
      "[nltk_data]   Package stopwords is already up-to-date!\n"
     ]
    }
   ],
   "source": [
    "porter = nltk.PorterStemmer()\n",
    "\n",
    "nltk.download('stopwords')\n",
    "from nltk.corpus import stopwords\n",
    "from nltk.tokenize import wordpunct_tokenize\n",
    "\n",
    "stopw = set(stopwords.words('english'))\n",
    "\n",
    "def clean_token(w):\n",
    "    w = porter.stem(''.join([a.lower() for a in w if a.isalnum()]))\n",
    "    return w\n",
    "    \n",
    "def clean_phrase(s):\n",
    "    s = s.split()\n",
    "    s = ' '.join([clean_token(w) for w in s])\n",
    "    return s\n",
    "\n",
    "def remove_stopw(s):\n",
    "    s = clean_phrase(s)\n",
    "    s = ' '.join([i for i in wordpunct_tokenize(s) if i not in stopw])\n",
    "    return s"
   ]
  },
  {
   "cell_type": "code",
   "execution_count": 209,
   "metadata": {
    "collapsed": true
   },
   "outputs": [],
   "source": [
    "w2v = gensim.models.Word2Vec.load_word2vec_format('cases_w2v.bin', binary=True)\n",
    "\n",
    "def similarity(ta, tb):\n",
    "    # Some terms are not in the w2v model, check first.\n",
    "    if (ta in w2v.vocab) and (tb in w2v.vocab):\n",
    "        return w2v.similarity(ta, tb)\n",
    "    else:\n",
    "        return 0"
   ]
  },
  {
   "cell_type": "code",
   "execution_count": 294,
   "metadata": {
    "collapsed": false
   },
   "outputs": [],
   "source": [
    "with open('inputData.csv', 'r') as infile:\n",
    "    reader = csv.reader(infile)\n",
    "    data = [row for row in reader]\n",
    "\n",
    "with open('outputData.csv', 'r') as testfile:\n",
    "    reader = csv.reader(testfile)\n",
    "    test = [row for row in reader]\n",
    "\n",
    "#subset = (0,30)\n",
    "subset = None\n",
    "if subset is not None:\n",
    "    questions_original = [d[0] for d in data][subset[0]:subset[1]]\n",
    "    answers_original = [d[1:] for d in data][subset[0]:subset[1]]\n",
    "    validation_original = [t[1] for t in test][subset[0]:subset[1]]\n",
    "\n",
    "    questions = [remove_stopw(d[0]) for d in data][subset[0]:subset[1]]\n",
    "    answers = [map(remove_stopw, d[1:]) for d in data][subset[0]:subset[1]]\n",
    "    validation = [remove_stopw(t[1]) for t in test][subset[0]:subset[1]]\n",
    "else:\n",
    "    questions_original = [d[0] for d in data]\n",
    "    answers_original = [d[1:] for d in data]\n",
    "    validation_original = [t[1] for t in test]\n",
    "\n",
    "    questions = [remove_stopw(d[0]) for d in data]\n",
    "    answers = [map(remove_stopw, d[1:]) for d in data]\n",
    "    validation = [remove_stopw(t[1]) for t in test]\n",
    "\n",
    "# Build a numeric answer table\n",
    "validation_indices = [-1]*len(validation)\n",
    "for i, va in enumerate(zip(validation, answers)):\n",
    "    v, ans = va\n",
    "    for j, a in enumerate(ans):\n",
    "        if v == a:\n",
    "            validation_indices[i] = j\n",
    "            break\n",
    "            \n",
    "# Check if an answer wasnt found\n",
    "assert len([i for i, e in enumerate([v >= 0 for v in validation_indices]) if e == False]) == 0"
   ]
  },
  {
   "cell_type": "code",
   "execution_count": 297,
   "metadata": {
    "collapsed": true
   },
   "outputs": [],
   "source": [
    "# Function to validate a set of answers\n",
    "def precision(model):\n",
    "    scores = model_scores(model)\n",
    "    guesses = map(lambda x: x.index(max(x)), scores)\n",
    "    marks = [float(g == v) for g, v in zip(guesses, validation_indices)]\n",
    "    return sum(marks)/len(validation_indices)\n",
    "\n",
    "# Scores for a given model\n",
    "def model_scores(model, qapair=None):\n",
    "    if qapair is None:  # Do all\n",
    "        scores = [[]]*len(questions)\n",
    "        for i in xrange(len(questions)):\n",
    "            scores[i] = model(questions[i], answers[i])\n",
    "    else:\n",
    "        scores = model(questions[qapair], answers[qapair])\n",
    "    return scores\n",
    "\n",
    "# Print scores for a QA index\n",
    "def print_qapair_scores(model, qapair=0):\n",
    "    scores = model_scores(model, qapair)\n",
    "    print \"Question:\"\n",
    "    qs = \"\\t\"+questions_original[qapair][:50]\n",
    "    if len(qs) < len(questions_original[qapair]): qs += \"...\"\n",
    "    print qs\n",
    "    print \"Answers and scores:\"\n",
    "    for i, e in enumerate(scores):\n",
    "        correct = (i == validation_indices[qapair])\n",
    "        guessed = (e == max(scores))\n",
    "        anss = ''\n",
    "        if correct:\n",
    "            anss += \" *\"\n",
    "        if guessed:\n",
    "            anss += \" +\"\n",
    "        #if not (correct or guessed):\n",
    "        anss += \"\\t\"+\"Score %02.2f\\t\" % (e)\n",
    "        anss += answers_original[qapair][i][:30]\n",
    "        anss += \"... [%d stems]\" % len(answers[qapair][i].split()) \n",
    "        print anss\n",
    "\n",
    "def plot_word_scores(model, qaa_pair):\n",
    "    scores = model(questions[qaa_pair[0]], [answers[qaa_pair[0]][qaa_pair[1]]], True)\n",
    "    scores = sorted(scores)\n",
    "    plt.plot(scores)\n",
    "    plt.ylabel(\"Total word score\")\n",
    "    plt.xlabel(\"Word rank\")\n",
    "    # return scores"
   ]
  },
  {
   "cell_type": "code",
   "execution_count": 233,
   "metadata": {
    "collapsed": false
   },
   "outputs": [
    {
     "name": "stdout",
     "output_type": "stream",
     "text": [
      "Question:\n",
      "\tCan a non-filed claim be used in connection with a...\n",
      "Answers and scores:\n",
      "\tScore 10.00\tHere, the Court cannot determi... [83 stems]\n",
      " *\tScore 1.00\t(a) A claim or interest, proof... [25 stems]\n",
      " +\tScore 43.00\t--------- Notes: [1] The movan... [939 stems]\n",
      "\tScore 11.00\t(18) The \"production system\" c... [156 stems]\n",
      "\tScore 10.00\tThe \" second connecting device... [172 stems]\n"
     ]
    },
    {
     "data": {
      "text/plain": [
       "0.06666666666666667"
      ]
     },
     "execution_count": 233,
     "metadata": {},
     "output_type": "execute_result"
    }
   ],
   "source": [
    "# First model: Choose the answer with the greatest number\n",
    "# of common words with the question\n",
    "def equal_words(question, candidates):\n",
    "    \"\"\"\n",
    "    Check the number of words in answers contained in question\n",
    "    \"\"\"\n",
    "    qtokens = list(set(question.split()))\n",
    "    counts = [0]*len(candidates)\n",
    "    for i, c in enumerate(candidates):\n",
    "        candidate = c.split()\n",
    "        counts[i] = len([token for token in candidate if token in qtokens])\n",
    "    return counts\n",
    "\n",
    "print_qapair_scores(equal_words, 7)\n",
    "precision(equal_words)"
   ]
  },
  {
   "cell_type": "code",
   "execution_count": 289,
   "metadata": {
    "collapsed": false,
    "scrolled": true
   },
   "outputs": [
    {
     "data": {
      "image/png": "[encoded data removed]",
      "text/plain": [
       "<matplotlib.figure.Figure at 0x1365143d0>"
      ]
     },
     "metadata": {},
     "output_type": "display_data"
    }
   ],
   "source": [
    "# Second model: Use Word2Vec and use pairwise token similarity score\n",
    "def pairwise_similarity(question, candidates, get_sim=False):\n",
    "    qtokens = list(set(question.split()))\n",
    "    scores = [0]*len(candidates)\n",
    "    for i, c in enumerate(candidates):\n",
    "        candidate = c.split()\n",
    "        similarities = [similarity(qt, ct) for qt in qtokens for ct in candidate]\n",
    "        scores[i] = sum(similarities)\n",
    "        # Normalize score according to sentence length and discounted pairs\n",
    "        scores[i] /= (len(qtokens)*len(candidate)) - len([s for s in similarities if s == 0])\n",
    "    if get_sim:\n",
    "        return similarities\n",
    "    else:\n",
    "        return scores\n",
    "\n",
    "#print_qapair_scores(pairwise_similarity, 7)\n",
    "plot_word_scores(pairwise_similarity, (22, 0))\n",
    "# precision(pairwise_similarity)"
   ]
  },
  {
   "cell_type": "code",
   "execution_count": 285,
   "metadata": {
    "collapsed": false
   },
   "outputs": [
    {
     "name": "stdout",
     "output_type": "stream",
     "text": [
      "Question:\n",
      "\tCan an insider purchase the debt of a bankrupt com...\n",
      "Answers and scores:\n",
      "\tScore 0.07\tS. 625 responds to the bankrup... [80 stems]\n",
      "\tScore 0.07\tThere is a related, and more n... [239 stems]\n",
      "\tScore 0.04\t--------- Notes: [1] Rule 2002... [2122 stems]\n",
      " * +\tScore 0.07\tThe Bankruptcy Court held that... [239 stems]\n",
      "\tScore 0.06\t--------- Notes: [1] Fait, Inc... [243 stems]\n"
     ]
    },
    {
     "data": {
      "text/plain": [
       "0.5"
      ]
     },
     "execution_count": 285,
     "metadata": {},
     "output_type": "execute_result"
    },
    {
     "data": {
      "image/png": "[encoded data removed]",
      "text/plain": [
       "<matplotlib.figure.Figure at 0x13555a490>"
      ]
     },
     "metadata": {},
     "output_type": "display_data"
    }
   ],
   "source": [
    "# Third model: Smooth Word2Vec similarities\n",
    "def pairwise_similarity_log(question, candidates, get_sim=False):\n",
    "    qtokens = list(set(question.split()))\n",
    "    scores = [0]*len(candidates)\n",
    "    for i, c in enumerate(candidates):\n",
    "        candidate = c.split()\n",
    "        words = {}\n",
    "        [words.update([(qt+ct, similarity(qt, ct))]) for qt in qtokens for ct in candidate]\n",
    "        similarities = words.values()\n",
    "        scores_pos = [np.log(k+1) for k in similarities if k > 0]\n",
    "        scores_neg = [-np.log(-k+1) for k in similarities if k < 0]\n",
    "        similarities = scores_neg+scores_pos\n",
    "        scores[i] = (sum(scores_pos)-sum(scores_neg))/((len(qtokens)*len(candidate)) - len([s for s in similarities if s == 0]))\n",
    "    if get_sim:\n",
    "        return similarities\n",
    "    else:\n",
    "        return scores\n",
    "\n",
    "print_qapair_scores(pairwise_similarity_log, 6)\n",
    "plot_word_scores(pairwise_similarity_log, (22, 0))\n",
    "precision(pairwise_similarity)"
   ]
  },
  {
   "cell_type": "code",
   "execution_count": 299,
   "metadata": {
    "collapsed": false
   },
   "outputs": [
    {
     "name": "stdout",
     "output_type": "stream",
     "text": [
      "Question:\n",
      "\tCan an insider purchase the debt of a bankrupt com...\n",
      "Answers and scores:\n",
      " +\tScore 0.03\tS. 625 responds to the bankrup... [80 stems]\n",
      "\tScore 0.01\tThere is a related, and more n... [239 stems]\n",
      "\tScore 0.00\t--------- Notes: [1] Rule 2002... [2122 stems]\n",
      " *\tScore 0.01\tThe Bankruptcy Court held that... [239 stems]\n",
      "\tScore 0.01\t--------- Notes: [1] Fait, Inc... [243 stems]\n"
     ]
    },
    {
     "data": {
      "image/png": "[encoded data removed]",
      "text/plain": [
       "<matplotlib.figure.Figure at 0x135e4b4d0>"
      ]
     },
     "metadata": {},
     "output_type": "display_data"
    }
   ],
   "source": [
    "# Fourth model: Question words fraction\n",
    "def similarity_log_completion(question, candidates, get_sim=False):\n",
    "    qtokens = list(set(question.split()))\n",
    "    scores = [0]*len(candidates)\n",
    "    for i, c in enumerate(candidates):\n",
    "        candidate = c.split()\n",
    "        words = {}\n",
    "        [words.update([(qt, words.setdefault(qt,0)+similarity(qt, ct))]) for qt in qtokens for ct in candidate]\n",
    "        similarities = words.values()\n",
    "        scores_pos = [np.log(k+1) for k in similarities if k > 0]\n",
    "        scores_neg = [-np.log(-k+1) for k in similarities if k < 0]\n",
    "        similarities = scores_neg+scores_pos\n",
    "        scores[i] = (sum(scores_pos)-sum(scores_neg))/((len(qtokens)*len(candidate)) - len([s for s in similarities if s == 0]))\n",
    "    if get_sim:\n",
    "        return similarities\n",
    "    else:\n",
    "        return scores\n",
    "\n",
    "print_qapair_scores(similarity_log_completion, 6)\n",
    "plot_word_scores(similarity_log_completion, (22, 0))\n",
    "# precision(similarity_log_completion)"
   ]
  },
  {
   "cell_type": "code",
   "execution_count": 295,
   "metadata": {
    "collapsed": false
   },
   "outputs": [
    {
     "name": "stdout",
     "output_type": "stream",
     "text": [
      "Equal Words...\n",
      "Similarity...\n",
      "Similarity Log...\n",
      "Log Completion...\n"
     ]
    }
   ],
   "source": [
    "print \"Equal Words...\"\n",
    "#p_equal_words = precision(equal_words)\n",
    "print \"Similarity...\"\n",
    "#p_pairwise_similarity = precision(pairwise_similarity)\n",
    "print \"Similarity Log...\"\n",
    "#p_pairwise_similarity_log = precision(pairwise_similarity_log)\n",
    "print \"Log Completion...\"\n",
    "p_similarity_log_completion = precision(similarity_log_completion)"
   ]
  },
  {
   "cell_type": "code",
   "execution_count": 296,
   "metadata": {
    "collapsed": false
   },
   "outputs": [
    {
     "name": "stdout",
     "output_type": "stream",
     "text": [
      "Equal Words:\t\t\t 0.06\n",
      "Pairwise Similarity:\t\t 0.37\n",
      "Pairwise Similarity Log:\t 0.61\n",
      "Similarity Log Completion:\t 0.60\n"
     ]
    }
   ],
   "source": [
    "print \"Equal Words:\\t\\t\\t %0.2f\" % p_equal_words\n",
    "print \"Pairwise Similarity:\\t\\t %0.2f\" % p_pairwise_similarity\n",
    "print \"Pairwise Similarity Log:\\t %0.2f\" % p_pairwise_similarity_log\n",
    "print \"Similarity Log Completion:\\t %0.2f\" % p_similarity_log_completion"
   ]
  },
  {
   "cell_type": "code",
   "execution_count": null,
   "metadata": {
    "collapsed": true
   },
   "outputs": [],
   "source": []
  }
 ],
 "metadata": {
  "anaconda-cloud": {},
  "kernelspec": {
   "display_name": "Python [default]",
   "language": "python",
   "name": "python2"
  },
  "language_info": {
   "codemirror_mode": {
    "name": "ipython",
    "version": 2
   },
   "file_extension": ".py",
   "mimetype": "text/x-python",
   "name": "python",
   "nbconvert_exporter": "python",
   "pygments_lexer": "ipython2",
   "version": "2.7.12"
  }
 },
 "nbformat": 4,
 "nbformat_minor": 1
}
